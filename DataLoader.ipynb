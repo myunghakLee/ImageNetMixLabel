{
 "cells": [
  {
   "cell_type": "code",
   "execution_count": 3,
   "metadata": {
    "ExecuteTime": {
     "end_time": "2021-04-23T15:11:55.557197Z",
     "start_time": "2021-04-23T15:11:54.093790Z"
    }
   },
   "outputs": [
    {
     "ename": "TypeError",
     "evalue": "list indices must be integers or slices, not tuple",
     "output_type": "error",
     "traceback": [
      "\u001b[0;31m---------------------------------------------------------------------------\u001b[0m",
      "\u001b[0;31mTypeError\u001b[0m                                 Traceback (most recent call last)",
      "\u001b[0;32m<ipython-input-3-0c9140c30b13>\u001b[0m in \u001b[0;36m<module>\u001b[0;34m\u001b[0m\n\u001b[1;32m    130\u001b[0m \u001b[0;34m\u001b[0m\u001b[0m\n\u001b[1;32m    131\u001b[0m \u001b[0;34m\u001b[0m\u001b[0m\n\u001b[0;32m--> 132\u001b[0;31m dataloader = ImageNetDataloader(img_dir = \"data/ILSVRC2012_img_val/\",  \n\u001b[0m\u001b[1;32m    133\u001b[0m                                 label_dir = \"data/ILSVRC2012_bbox_val_v3/val/\", random_rate = 0.5)\n",
      "\u001b[0;32m<ipython-input-3-0c9140c30b13>\u001b[0m in \u001b[0;36m__init__\u001b[0;34m(self, img_dir, label_dir, category_dir, random_rate)\u001b[0m\n\u001b[1;32m     34\u001b[0m             \u001b[0mdata\u001b[0m\u001b[0;34m[\u001b[0m\u001b[0;34m'children'\u001b[0m\u001b[0;34m]\u001b[0m\u001b[0;34m[\u001b[0m\u001b[0;36m5\u001b[0m\u001b[0;34m]\u001b[0m\u001b[0;34m,\u001b[0m        \u001b[0;31m#toilet tissue, toilet paper, bathroom tissue\u001b[0m\u001b[0;34m\u001b[0m\u001b[0;34m\u001b[0m\u001b[0m\n\u001b[1;32m     35\u001b[0m             \u001b[0mdata\u001b[0m\u001b[0;34m[\u001b[0m\u001b[0;34m'children'\u001b[0m\u001b[0;34m]\u001b[0m\u001b[0;34m[\u001b[0m\u001b[0;36m6\u001b[0m\u001b[0;34m]\u001b[0m\u001b[0;34m,\u001b[0m        \u001b[0;31m#French loaf\u001b[0m\u001b[0;34m\u001b[0m\u001b[0;34m\u001b[0m\u001b[0m\n\u001b[0;32m---> 36\u001b[0;31m             \u001b[0mdata\u001b[0m\u001b[0;34m[\u001b[0m\u001b[0;34m'children'\u001b[0m\u001b[0;34m]\u001b[0m\u001b[0;34m[\u001b[0m\u001b[0;36m7\u001b[0m\u001b[0;34m,\u001b[0m\u001b[0;36m10\u001b[0m\u001b[0;34m]\u001b[0m\u001b[0;34m,\u001b[0m        \u001b[0;31m#traffic light, traffic signal, stoplight\u001b[0m\u001b[0;34m\u001b[0m\u001b[0;34m\u001b[0m\u001b[0m\n\u001b[0m\u001b[1;32m     37\u001b[0m             \u001b[0mdata\u001b[0m\u001b[0;34m[\u001b[0m\u001b[0;34m'children'\u001b[0m\u001b[0;34m]\u001b[0m\u001b[0;34m[\u001b[0m\u001b[0;36m8\u001b[0m\u001b[0;34m]\u001b[0m\u001b[0;34m,\u001b[0m        \u001b[0;31m#bun, roll\u001b[0m\u001b[0;34m\u001b[0m\u001b[0;34m\u001b[0m\u001b[0m\n\u001b[1;32m     38\u001b[0m             \u001b[0mdata\u001b[0m\u001b[0;34m[\u001b[0m\u001b[0;34m'children'\u001b[0m\u001b[0;34m]\u001b[0m\u001b[0;34m[\u001b[0m\u001b[0;36m9\u001b[0m\u001b[0;34m]\u001b[0m\u001b[0;34m,\u001b[0m        \u001b[0;31m#sauce\u001b[0m\u001b[0;34m\u001b[0m\u001b[0;34m\u001b[0m\u001b[0m\n",
      "\u001b[0;31mTypeError\u001b[0m: list indices must be integers or slices, not tuple"
     ]
    }
   ],
   "source": [
    "import json\n",
    "import random\n",
    "from glob import glob\n",
    "from skimage import io, transform\n",
    "from xml.etree.ElementTree import parse\n",
    "from torch.utils.data import Dataset, DataLoader\n",
    "from PIL import Image\n",
    "\n",
    "\n",
    "\n",
    "\n",
    "class ImageNetDataloader(Dataset):\n",
    "    def __init__(self, img_dir, label_dir, category_dir = \"imageNetCategory.json\", random_rate = 0.0, transform = transform):\n",
    "        self.transform = transform\n",
    "\n",
    "        \n",
    "        \n",
    "        self.label_file = sorted(glob(label_dir +\"/*.xml\"))\n",
    "        self.image_file = sorted(glob(img_dir +\"/*.JPEG\"))\n",
    "        self.labels = [parse(f).getroot().find(\"object\").findtext(\"name\") for f in self.label_file]\n",
    "        self.class_num = 0\n",
    "\n",
    "        self.group = {}\n",
    "        self.category_name = []        \n",
    "        self.random_rate = random_rate # 바뀔 확률\n",
    "        self.id2name = {}\n",
    "        class_id = 0\n",
    "        \n",
    "        with open(category_dir, \"r\") as json_data:\n",
    "            data = json.load(json_data)        \n",
    "\n",
    "        \n",
    "        oraganism_category = [\n",
    "            data['children'][0],        #menu\n",
    "            data['children'][1],        #carbonara\n",
    "            data['children'][2],        #bubble\n",
    "            data['children'][3],        #pretzel\n",
    "            data['children'][4],        #street sign\n",
    "            data['children'][5],        #toilet tissue, toilet paper, bathroom tissue\n",
    "            data['children'][6],        #French loaf\n",
    "            data['children'][7],        #traffic light, traffic signal, stoplight\n",
    "            data['children'][8],        #bun, roll\n",
    "            data['children'][9],        #sauce\n",
    "            data['children'][10],        #dip\n",
    "            data['children'][11],        #feed, provender\n",
    "            data['children'][12],        #sandwich\n",
    "            data['children'][13],        #foodstuff, food product\n",
    "            data['children'][14],        #nutriment, nourishment, nutrition, sustenance, aliment, alimentation, victuals\n",
    "            data['children'][15],        #geological formation, formation\n",
    "            data['children'][16],        #beverage, drink, drinkable, potable\n",
    "            data['children'][17],        #vegetable, veggie, veg\n",
    "            data['children'][18],        #natural object\n",
    "            data['children'][19],        #artifact, artefact            \n",
    "            data[\"children\"][20][\"children\"][0], # plant\n",
    "            data[\"children\"][20][\"children\"][1], # fungus\n",
    "            data[\"children\"][20][\"children\"][2], # person\n",
    "#             data[\"children\"][20][\"children\"][3], # animal\n",
    "            data[\"children\"][20][\"children\"][3][\"children\"][0], # invertebrate 갑각류\n",
    "            data[\"children\"][20][\"children\"][3][\"children\"][1], # domestic animal 가축\n",
    "            data[\"children\"][20][\"children\"][3][\"children\"][2], # greyhound 경주용 개\n",
    "            data[\"children\"][20][\"children\"][3][\"children\"][3][\"children\"][0][\"children\"][0],#  mamal\n",
    "            data[\"children\"][20][\"children\"][3][\"children\"][3][\"children\"][0][\"children\"][1],#  bird\n",
    "            data[\"children\"][20][\"children\"][3][\"children\"][3][\"children\"][0][\"children\"][2],#  reptile\n",
    "            data[\"children\"][20][\"children\"][3][\"children\"][3][\"children\"][0][\"children\"][3],#  amphibian\n",
    "            data[\"children\"][20][\"children\"][3][\"children\"][3][\"children\"][0][\"children\"][4]#  aquatic vertebrate\n",
    "        ]\n",
    "\n",
    "        for d in (oraganism_category):\n",
    "            leafnode = self.get_leafnode(d)\n",
    "            same_class = [j[2] for j in leafnode]\n",
    "\n",
    "            self.category_name.append(d['name'])\n",
    "\n",
    "            for id,name, index in leafnode:\n",
    "                if id in self.group.keys():\n",
    "#                     print(name)\n",
    "                    pass\n",
    "                else:\n",
    "                    self.group[id] = {\"name\": name, \"class_id\": index, \"same_class\" : same_class, \n",
    "                                      \"category_name\": d['name']}\n",
    "                    self.id2name[index] = name\n",
    "                    class_id+=1      \n",
    "\n",
    "                \n",
    "        \n",
    "#         for i in range(20):\n",
    "#             leafnode = self.get_leafnode(data[\"children\"][i])\n",
    "#             same_class = [j[2] for j in leafnode]\n",
    "#             self.category_name.append(data[\"children\"][i]['name'])\n",
    "\n",
    "#             for id,name,index in leafnode:\n",
    "#                 if id in self.group.keys():\n",
    "# #                     print(name)\n",
    "#                     pass\n",
    "#                 else:\n",
    "#                     self.group[id] = {\"name\": name, \"class_id\": index, \"same_class\" : same_class, \n",
    "#                                       \"category_name\": data[\"children\"][i]['name']}\n",
    "#                     self.id2name[index] = name\n",
    "#                     class_id+=1                \n",
    "                \n",
    "                \n",
    "    def __len__(self):\n",
    "        return len(self.lables)\n",
    "\n",
    "    \n",
    "    def __getitem__(self,idx):\n",
    "        data = self.group[self.labels[idx]] #n****\n",
    "        \n",
    "        \n",
    "        if random.random() <= self.random_rate:\n",
    "            change_idx = ((data[\"same_class\"].index(data[\"class_id\"])) + random.randrange(0, len(data[\"same_class\"]))) % len(data['same_class'])\n",
    "            label = data[\"same_class\"][change_idx]\n",
    "            \n",
    "\n",
    "#             label = same_class[0] + (((data[\"category_id\"] - same_class[0]) + random.randrange(1,len(same_class)))% len(same_class))\n",
    "#             print(data[\"category_name\"])\n",
    "#             print(same_class)\n",
    "#             print(f\"{data['class_id']} --> {label}\")\n",
    "#             print(f\"{self.id2name[data['class_id']]} --> {self.id2name[label]}\")\n",
    "            img = Image.open(self.image_file[idx]).convert(\"RGB\")\n",
    "            return self.transform(img), label\n",
    "        else:\n",
    "            img = Image.open(self.image_file[idx]).convert(\"RGB\")\n",
    "            return self.transform(img), data[\"class_id\"]\n",
    "                                     \n",
    "    def get_leafnode(self, data):\n",
    "        id = []\n",
    "        if \"children\" in data:\n",
    "            for d in data[\"children\"]:\n",
    "                id += (self.get_leafnode(d))\n",
    "            return id\n",
    "        else:\n",
    "            return [(data[\"id\"], data[\"name\"], int(data['index']))]\n",
    "\n",
    "\n",
    "                                 \n",
    "# dataloader = ImageNetDataloader(img_dir = \"data/ILSVRC2012_img_val/\",  \n",
    "#                                 label_dir = \"data/ILSVRC2012_bbox_val_v3/val/\", random_rate = 0.5)"
   ]
  },
  {
   "cell_type": "code",
   "execution_count": 7,
   "metadata": {
    "ExecuteTime": {
     "end_time": "2021-04-23T15:12:33.285921Z",
     "start_time": "2021-04-23T15:12:33.280046Z"
    }
   },
   "outputs": [],
   "source": [
    "# import json\n",
    "\n",
    "# with open(\"imageNetCategory.json\", \"r\") as json_data:\n",
    "#     data = json.load(json_data)"
   ]
  },
  {
   "cell_type": "code",
   "execution_count": 8,
   "metadata": {
    "ExecuteTime": {
     "end_time": "2021-04-23T15:12:33.740475Z",
     "start_time": "2021-04-23T15:12:33.737056Z"
    }
   },
   "outputs": [],
   "source": [
    "# def get_leafnode(data):\n",
    "#     id = []\n",
    "#     if \"children\" in data:\n",
    "#         for d in data[\"children\"]:\n",
    "#             id += (get_leafnode(d))\n",
    "#         return id\n",
    "#     else:\n",
    "#         return [(data[\"id\"], data[\"name\"].split(\",\")[0])]\n",
    "    \n"
   ]
  },
  {
   "cell_type": "code",
   "execution_count": 9,
   "metadata": {
    "ExecuteTime": {
     "end_time": "2021-04-23T15:12:36.684112Z",
     "start_time": "2021-04-23T15:12:36.678089Z"
    }
   },
   "outputs": [],
   "source": [
    "# class_num = 0\n",
    "# group_idx = []\n",
    "# group = {}\n",
    "# category_name = []\n",
    "# for i in range(20):\n",
    "#     leafnode = get_leafnode(data[\"children\"][i])\n",
    "#     same_category = [j for j in range(i, i+len(leafnode))]\n",
    "#     category_name.append(data[\"children\"][i]['name'].split(\",\")[0])\n",
    "    \n",
    "#     for id,name in leafnode:\n",
    "#         group[id] = {\"name\": name, \"category_id\": i, \"same_category\" : same_category, \"category_name\": category_name}\n",
    "\n",
    "        \n",
    "        \n",
    "\n",
    "        "
   ]
  },
  {
   "cell_type": "code",
   "execution_count": 103,
   "metadata": {
    "ExecuteTime": {
     "end_time": "2021-04-23T13:44:03.023329Z",
     "start_time": "2021-04-23T13:44:03.008133Z"
    }
   },
   "outputs": [
    {
     "ename": "TypeError",
     "evalue": "'set' object does not support item assignment",
     "output_type": "error",
     "traceback": [
      "\u001b[0;31m---------------------------------------------------------------------------\u001b[0m",
      "\u001b[0;31mTypeError\u001b[0m                                 Traceback (most recent call last)",
      "\u001b[0;32m<ipython-input-103-c7e27578e31e>\u001b[0m in \u001b[0;36m<module>\u001b[0;34m\u001b[0m\n\u001b[1;32m     19\u001b[0m \u001b[0;34m\u001b[0m\u001b[0m\n\u001b[1;32m     20\u001b[0m     \u001b[0;32mfor\u001b[0m \u001b[0mid\u001b[0m\u001b[0;34m,\u001b[0m\u001b[0mname\u001b[0m \u001b[0;32min\u001b[0m \u001b[0mleafnode\u001b[0m\u001b[0;34m:\u001b[0m\u001b[0;34m\u001b[0m\u001b[0;34m\u001b[0m\u001b[0m\n\u001b[0;32m---> 21\u001b[0;31m         \u001b[0mgroup\u001b[0m\u001b[0;34m[\u001b[0m\u001b[0mid\u001b[0m\u001b[0;34m]\u001b[0m \u001b[0;34m=\u001b[0m \u001b[0;34m{\u001b[0m\u001b[0;34m\"name\"\u001b[0m\u001b[0;34m:\u001b[0m \u001b[0mname\u001b[0m\u001b[0;34m,\u001b[0m \u001b[0;34m\"category_id\"\u001b[0m\u001b[0;34m:\u001b[0m \u001b[0mi\u001b[0m\u001b[0;34m,\u001b[0m \u001b[0;34m\"same_category\"\u001b[0m \u001b[0;34m:\u001b[0m \u001b[0msame_category\u001b[0m\u001b[0;34m,\u001b[0m \u001b[0;34m\"category_name\"\u001b[0m\u001b[0;34m:\u001b[0m \u001b[0mcategory_name\u001b[0m\u001b[0;34m}\u001b[0m\u001b[0;34m\u001b[0m\u001b[0;34m\u001b[0m\u001b[0m\n\u001b[0m\u001b[1;32m     22\u001b[0m \u001b[0;34m\u001b[0m\u001b[0m\n\u001b[1;32m     23\u001b[0m \u001b[0;34m\u001b[0m\u001b[0m\n",
      "\u001b[0;31mTypeError\u001b[0m: 'set' object does not support item assignment"
     ]
    }
   ],
   "source": [
    "# oraganism_category = [\n",
    "# data[\"children\"][20][\"children\"][0], # plant\n",
    "# data[\"children\"][20][\"children\"][1], # fungus\n",
    "# data[\"children\"][20][\"children\"][2], # person\n",
    "# data[\"children\"][20][\"children\"][3], # animal\n",
    "# data[\"children\"][20][\"children\"][3][\"children\"][0], # invertebrate 갑각류\n",
    "# data[\"children\"][20][\"children\"][3][\"children\"][1], # domestic animal 가축\n",
    "# data[\"children\"][20][\"children\"][3][\"children\"][2], # greyhound 경주용 개\n",
    "# data[\"children\"][20][\"children\"][3][\"children\"][3][\"children\"][0][\"children\"][0],#  mamal\n",
    "# data[\"children\"][20][\"children\"][3][\"children\"][3][\"children\"][0][\"children\"][1],#  bird\n",
    "# data[\"children\"][20][\"children\"][3][\"children\"][3][\"children\"][0][\"children\"][2],#  reptile\n",
    "# data[\"children\"][20][\"children\"][3][\"children\"][3][\"children\"][0][\"children\"][3],#  amphibian\n",
    "# data[\"children\"][20][\"children\"][3][\"children\"][3][\"children\"][0][\"children\"][4]#  aquatic vertebrate\n",
    "# ]\n",
    "# for d in (oraganism_category):\n",
    "#     leafnode = get_leafnode(d)\n",
    "#     same_category = [j for j in range(i, i+len(leafnode))]\n",
    "#     category_name.append(d['name'].split(\",\")[0])\n",
    "    \n",
    "#     for id,name in leafnode:\n",
    "#         group[id] = {\"name\": name, \"category_id\": i, \"same_category\" : same_category, \"category_name\": category_name}\n",
    "\n",
    "        \n",
    "        "
   ]
  },
  {
   "cell_type": "code",
   "execution_count": 5,
   "metadata": {
    "ExecuteTime": {
     "end_time": "2021-04-23T12:47:52.818488Z",
     "start_time": "2021-04-23T12:47:52.813016Z"
    }
   },
   "outputs": [
    {
     "data": {
      "text/plain": [
       "1000"
      ]
     },
     "execution_count": 5,
     "metadata": {},
     "output_type": "execute_result"
    }
   ],
   "source": [
    "# len(group)"
   ]
  },
  {
   "cell_type": "code",
   "execution_count": 200,
   "metadata": {
    "ExecuteTime": {
     "end_time": "2021-04-23T12:31:47.099197Z",
     "start_time": "2021-04-23T12:31:47.089437Z"
    }
   },
   "outputs": [
    {
     "ename": "IndexError",
     "evalue": "string index out of range",
     "output_type": "error",
     "traceback": [
      "\u001b[0;31m---------------------------------------------------------------------------\u001b[0m",
      "\u001b[0;31mIndexError\u001b[0m                                Traceback (most recent call last)",
      "\u001b[0;32m<ipython-input-200-1d58c6d8e485>\u001b[0m in \u001b[0;36m<module>\u001b[0;34m\u001b[0m\n\u001b[1;32m      1\u001b[0m \u001b[0;32mfor\u001b[0m \u001b[0md\u001b[0m \u001b[0;32min\u001b[0m \u001b[0mdata\u001b[0m\u001b[0;34m[\u001b[0m\u001b[0;34m\"children\"\u001b[0m\u001b[0;34m]\u001b[0m\u001b[0;34m[\u001b[0m\u001b[0;36m20\u001b[0m\u001b[0;34m]\u001b[0m\u001b[0;34m:\u001b[0m\u001b[0;34m\u001b[0m\u001b[0;34m\u001b[0m\u001b[0m\n\u001b[0;32m----> 2\u001b[0;31m     \u001b[0mleafnode\u001b[0m \u001b[0;34m=\u001b[0m \u001b[0mget_leafnode\u001b[0m\u001b[0;34m(\u001b[0m\u001b[0md\u001b[0m\u001b[0;34m[\u001b[0m\u001b[0mi\u001b[0m\u001b[0;34m]\u001b[0m\u001b[0;34m)\u001b[0m\u001b[0;34m\u001b[0m\u001b[0;34m\u001b[0m\u001b[0m\n\u001b[0m\u001b[1;32m      3\u001b[0m     \u001b[0mprint\u001b[0m\u001b[0;34m(\u001b[0m\u001b[0mleafnode\u001b[0m\u001b[0;34m)\u001b[0m\u001b[0;34m\u001b[0m\u001b[0;34m\u001b[0m\u001b[0m\n\u001b[1;32m      4\u001b[0m \u001b[0;34m\u001b[0m\u001b[0m\n\u001b[1;32m      5\u001b[0m     \u001b[0msame_category\u001b[0m \u001b[0;34m=\u001b[0m \u001b[0;34m[\u001b[0m\u001b[0mj\u001b[0m \u001b[0;32mfor\u001b[0m \u001b[0mj\u001b[0m \u001b[0;32min\u001b[0m \u001b[0mrange\u001b[0m\u001b[0;34m(\u001b[0m\u001b[0mi\u001b[0m\u001b[0;34m,\u001b[0m \u001b[0mi\u001b[0m\u001b[0;34m+\u001b[0m\u001b[0mlen\u001b[0m\u001b[0;34m(\u001b[0m\u001b[0mleafnode\u001b[0m\u001b[0;34m)\u001b[0m\u001b[0;34m)\u001b[0m\u001b[0;34m]\u001b[0m\u001b[0;34m\u001b[0m\u001b[0;34m\u001b[0m\u001b[0m\n",
      "\u001b[0;31mIndexError\u001b[0m: string index out of range"
     ]
    }
   ],
   "source": [
    "# for d in data[\"children\"][20]:\n",
    "#     leafnode = get_leafnode(d[i])\n",
    "#     print(leafnode)\n",
    "    \n",
    "#     same_category = [j for j in range(i, i+len(leafnode))]\n",
    "\n",
    "#     for id,name in leafnode:\n",
    "#         group[id] = {\"name\": name, \"category_id\": i, \"same_category\" : same_category}\n",
    "\n",
    "        "
   ]
  },
  {
   "cell_type": "code",
   "execution_count": 7,
   "metadata": {
    "ExecuteTime": {
     "end_time": "2021-04-23T12:58:44.606824Z",
     "start_time": "2021-04-23T12:58:44.565072Z"
    }
   },
   "outputs": [
    {
     "ename": "NameError",
     "evalue": "name 'dataloader' is not defined",
     "output_type": "error",
     "traceback": [
      "\u001b[0;31m---------------------------------------------------------------------------\u001b[0m",
      "\u001b[0;31mNameError\u001b[0m                                 Traceback (most recent call last)",
      "\u001b[0;32m<ipython-input-7-cce3dd2b7311>\u001b[0m in \u001b[0;36m<module>\u001b[0;34m\u001b[0m\n\u001b[0;32m----> 1\u001b[0;31m \u001b[0mgt_group\u001b[0m \u001b[0;34m=\u001b[0m \u001b[0mdataloader\u001b[0m\u001b[0;34m.\u001b[0m\u001b[0mlabel\u001b[0m\u001b[0;34m\u001b[0m\u001b[0;34m\u001b[0m\u001b[0m\n\u001b[0m",
      "\u001b[0;31mNameError\u001b[0m: name 'dataloader' is not defined"
     ]
    }
   ],
   "source": [
    "# gt_group = dataloader.label"
   ]
  },
  {
   "cell_type": "code",
   "execution_count": 6,
   "metadata": {
    "ExecuteTime": {
     "end_time": "2021-04-23T12:58:13.085490Z",
     "start_time": "2021-04-23T12:58:13.081969Z"
    }
   },
   "outputs": [
    {
     "data": {
      "text/plain": [
       "1000"
      ]
     },
     "execution_count": 6,
     "metadata": {},
     "output_type": "execute_result"
    }
   ],
   "source": [
    "# len(group)"
   ]
  },
  {
   "cell_type": "code",
   "execution_count": 50,
   "metadata": {
    "ExecuteTime": {
     "end_time": "2021-04-23T11:46:02.454867Z",
     "start_time": "2021-04-23T11:46:02.448523Z"
    }
   },
   "outputs": [
    {
     "ename": "SyntaxError",
     "evalue": "invalid syntax (<ipython-input-50-528464644546>, line 3)",
     "output_type": "error",
     "traceback": [
      "\u001b[0;36m  File \u001b[0;32m\"<ipython-input-50-528464644546>\"\u001b[0;36m, line \u001b[0;32m3\u001b[0m\n\u001b[0;31m    group[\"n06874185\"] = {\"name\" = \"menu\", \"id\" = 0}\u001b[0m\n\u001b[0m                                 ^\u001b[0m\n\u001b[0;31mSyntaxError\u001b[0m\u001b[0;31m:\u001b[0m invalid syntax\n"
     ]
    }
   ],
   "source": [
    "# group_idx = []\n",
    "\n",
    "# group[\"n06874185\"] = {\"name\" = \"menu\", \"id\" = 0}\n",
    "# group[\"n07831146\"] = {\"name\" = \"carbonara\", \"id\" = 1}\n",
    "# group[\"n09229709\"] = {\"name\" = \"bubble\", \"id\" = 2}\n",
    "# group[\"n07695742\"] = {\"name\" = \"pretzel\", \"id\" = 3}\n",
    "# group[\"n06794110\"] = {\"name\" = \"street sign\", \"id\" = 4}\n",
    "# group[\"n15075141\"] = {\"name\" = \"toilet tissue\", \"id\" = 5}\n",
    "# group[\"n07684084\"] = {\"name\" = \"French loaf\", \"id\" = 6}\n",
    "# group[\"n06874185\"] = {\"name\" = \"traffic light\", \"id\" = 7}\n",
    "\n",
    "\n",
    "\n",
    "\n",
    "\n",
    "# group[\"n07695742\"] = {\"name\" = \"pretzel\", \"id\" = 3}\n",
    "# group[\"n07695742\"] = {\"name\" = \"pretzel\", \"id\" = 3}\n",
    "# group[\"n07695742\"] = {\"name\" = \"pretzel\", \"id\" = 3}\n",
    "# group[\"n07695742\"] = {\"name\" = \"pretzel\", \"id\" = 3}\n",
    "# group[\"n07695742\"] = {\"name\" = \"pretzel\", \"id\" = 3}\n"
   ]
  }
 ],
 "metadata": {
  "kernelspec": {
   "display_name": "Python 3",
   "language": "python",
   "name": "python3"
  },
  "language_info": {
   "codemirror_mode": {
    "name": "ipython",
    "version": 3
   },
   "file_extension": ".py",
   "mimetype": "text/x-python",
   "name": "python",
   "nbconvert_exporter": "python",
   "pygments_lexer": "ipython3",
   "version": "3.7.6"
  },
  "toc": {
   "base_numbering": 1,
   "nav_menu": {},
   "number_sections": false,
   "sideBar": true,
   "skip_h1_title": false,
   "title_cell": "Table of Contents",
   "title_sidebar": "Contents",
   "toc_cell": false,
   "toc_position": {},
   "toc_section_display": true,
   "toc_window_display": false
  }
 },
 "nbformat": 4,
 "nbformat_minor": 4
}
